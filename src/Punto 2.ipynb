{
 "cells": [
  {
   "cell_type": "code",
   "execution_count": 104,
   "id": "939fd9e5-def5-4c15-a098-549e53cdc59f",
   "metadata": {},
   "outputs": [],
   "source": [
    "from sklearn.preprocessing import StandardScaler\n",
    "from sklearn.decomposition import PCA\n",
    "from sklearn.metrics import mean_squared_error\n",
    "import matplotlib.pyplot as plt\n",
    "import math\n",
    "import numpy as np\n",
    "import pandas as pd"
   ]
  },
  {
   "cell_type": "markdown",
   "id": "4cb137da-309d-4bea-9406-5413bba05274",
   "metadata": {},
   "source": [
    "# Punto 2"
   ]
  },
  {
   "cell_type": "code",
   "execution_count": 19,
   "id": "6476771d-a7a6-459f-936e-ea8b91184521",
   "metadata": {},
   "outputs": [],
   "source": [
    "#extraer información del excel y leer el excel\n",
    "path = 'city_data.xlsx'\n",
    "df = pd.read_excel(path)\n",
    "#df"
   ]
  },
  {
   "cell_type": "code",
   "execution_count": 29,
   "id": "4aba25c0-2197-4513-a8c0-e3756e5f9192",
   "metadata": {},
   "outputs": [
    {
     "name": "stdout",
     "output_type": "stream",
     "text": [
      "                     City       PCA\n",
      "0                  Bogotá  6.850255\n",
      "1                Medellín  2.254291\n",
      "2                    Cali  1.289861\n",
      "3            Barranquilla  0.555999\n",
      "4               Cartagena  0.222155\n",
      "5      Bucaramanga (test) -0.132641\n",
      "6                 Pereira -0.225528\n",
      "7           Cúcuta (test) -0.116400\n",
      "8           Ibagué (test) -0.249507\n",
      "9             Santa Marta -0.283715\n",
      "10              Manizales -0.338784\n",
      "11          Villavicencio -0.312404\n",
      "12                  Pasto -0.349820\n",
      "13               Montería -0.335778\n",
      "14             Valledupar -0.353633\n",
      "15                  Neiva -0.428262\n",
      "16                Popayán -0.446117\n",
      "17                Armenia -0.469289\n",
      "18              Sincelejo -0.483533\n",
      "19                  Tunja -0.506704\n",
      "20              Florencia -0.536897\n",
      "21               Riohacha -0.533487\n",
      "22                 Quibdó -0.588556\n",
      "23             San Andrés -0.618748\n",
      "24                  Yopal -0.585146\n",
      "25                Leticia -0.641920\n",
      "26          Arauca (test) -0.629583\n",
      "27                  Mocoa -0.654459\n",
      "28                   Mitú -0.674019\n",
      "29  Puerto Carreño (test) -0.677631\n"
     ]
    }
   ],
   "source": [
    "scaler = StandardScaler()\n",
    "scaled_data = scaler.fit_transform(df[['GDP (USD Billion)', 'Population (Millions)']])\n",
    "\n",
    "pca = PCA(n_components=1)\n",
    "pca_result = pca.fit_transform(scaled_data)\n",
    "\n",
    "# Añadir el resultado al DataFrame\n",
    "df['PCA'] = pca_result\n",
    "print(df[['City', 'PCA']])"
   ]
  },
  {
   "cell_type": "markdown",
   "id": "7ff58a25-343b-480e-86fc-a0dbe4b49942",
   "metadata": {},
   "source": [
    "# Punto 2.1"
   ]
  },
  {
   "cell_type": "code",
   "execution_count": 57,
   "id": "7fd7868e-389b-418a-add5-8e1459954562",
   "metadata": {},
   "outputs": [
    {
     "name": "stdout",
     "output_type": "stream",
     "text": [
      "[[383.3651666666667, 25.79571666666666], [25.79571666666666, 1.7691489999999999]]\n",
      "[[396.58465517  26.68522414]\n",
      " [ 26.68522414   1.83015414]]\n"
     ]
    }
   ],
   "source": [
    "# Extraer las dos variables\n",
    "x1 = df['GDP (USD Billion)']\n",
    "x2 = df['Population (Millions)']\n",
    "\n",
    "# Crear la matriz de covarianza\n",
    "cov_matrix = np.cov(x1, x2)\n",
    "\n",
    "def calcular_media(datos):\n",
    "    return sum(datos) / len(datos) if len(datos) > 0 else 0\n",
    "    \n",
    "def calcular_desviacion_estandar(datos):\n",
    "    n = len(datos)\n",
    "    if n == 0:\n",
    "        return None\n",
    "    media = calcular_media(datos)\n",
    "    varianza = sum((x - media) ** 2 for x in datos) / n\n",
    "    return math.sqrt(varianza)\n",
    "    \n",
    "def calcular_covarianza(X1, X2):\n",
    "    n = len(X1)\n",
    "    \n",
    "    if n != len(X2) or n == 0:\n",
    "        return None  # Verifica que ambas listas tengan el mismo tamaño y no estén vacías\n",
    "    \n",
    "    # Calcular las medias\n",
    "    media_X1 = sum(X1) / n\n",
    "    media_X2 = sum(X2) / n\n",
    "    \n",
    "    # Calcular la covarianza\n",
    "    covarianza = sum((X1[i] - media_X1) * (X2[i] - media_X2) for i in range(n)) / n\n",
    "    \n",
    "    return covarianza\n",
    "\n",
    "valor1 = calcular_covarianza(x1, x2)\n",
    "valor2 = calcular_covarianza(x1, x1)\n",
    "valor3 = calcular_covarianza(x2, x2)\n",
    "matriz = [[valor2, valor1],[valor1, valor3]]\n",
    "print(matriz)\n",
    "# Mostrar la matriz de covarianza\n",
    "print(cov_matrix)"
   ]
  },
  {
   "cell_type": "markdown",
   "id": "79745450-663a-4ab1-b4cf-cb08f1516837",
   "metadata": {},
   "source": [
    "# Punto 2.2"
   ]
  },
  {
   "cell_type": "code",
   "execution_count": 71,
   "id": "cfb9eb4a-30df-4c53-8afa-191b1d2474e9",
   "metadata": {},
   "outputs": [
    {
     "name": "stdout",
     "output_type": "stream",
     "text": [
      "Eigenvalues: [3.98380395e+02 3.44139937e-02]\n"
     ]
    }
   ],
   "source": [
    "# Calcular los eigenvalues y eigenvectors\n",
    "eigenvalues, eigenvectores = np.linalg.eig(cov_matrix)\n",
    "\n",
    "# Mostrar los eigenvalues\n",
    "print(\"Eigenvalues:\", eigenvalues)"
   ]
  },
  {
   "cell_type": "markdown",
   "id": "b78cce40-ccc1-499d-bb23-266291911215",
   "metadata": {},
   "source": [
    "# Punto 2.3"
   ]
  },
  {
   "cell_type": "code",
   "execution_count": 67,
   "id": "cf1cecc3-5bd2-4e3c-a71f-ef4ac9214012",
   "metadata": {},
   "outputs": [
    {
     "name": "stdout",
     "output_type": "stream",
     "text": [
      "[9.99913623e-01 8.63772954e-05]\n"
     ]
    }
   ],
   "source": [
    "# Calcular varianza Explicada \n",
    "varianza_explicada = eigenvalues / np.sum(eigenvalues)\n",
    "print(varianza_explicada)"
   ]
  },
  {
   "cell_type": "markdown",
   "id": "0853b797-c86e-4113-98a9-c43335423495",
   "metadata": {},
   "source": [
    "# Punto 2.4"
   ]
  },
  {
   "cell_type": "code",
   "execution_count": 73,
   "id": "77e8370a-1f2f-469d-b407-c30123c85121",
   "metadata": {},
   "outputs": [
    {
     "name": "stdout",
     "output_type": "stream",
     "text": [
      "[[ 0.99774346 -0.06714158]\n",
      " [ 0.06714158  0.99774346]]\n"
     ]
    }
   ],
   "source": [
    "# Mostrar el eigen vector previamente definido\n",
    "print(eigenvectores)"
   ]
  },
  {
   "cell_type": "markdown",
   "id": "477795c3-b249-42ea-9810-dd85164ae927",
   "metadata": {},
   "source": [
    "# Punto 2.5"
   ]
  },
  {
   "cell_type": "code",
   "execution_count": 86,
   "id": "196c0aef-948a-4484-aa89-25b8524dfe05",
   "metadata": {},
   "outputs": [
    {
     "name": "stdout",
     "output_type": "stream",
     "text": [
      "Matriz proyectada:\n",
      " [[ 5.15381062  4.51267902]\n",
      " [ 1.89419666  1.25826945]\n",
      " [ 0.77124478  1.0776375 ]\n",
      " [ 0.43540102  0.34671042]\n",
      " [ 0.10426971  0.21828795]\n",
      " [-0.08151144 -0.10829742]\n",
      " [-0.14261314 -0.17953839]\n",
      " [-0.1845329   0.03427014]\n",
      " [-0.21143043 -0.13723108]\n",
      " [-0.25270164 -0.14198907]\n",
      " [-0.26743634 -0.20881496]\n",
      " [-0.27919023 -0.15527711]\n",
      " [-0.29700158 -0.19175488]\n",
      " [-0.30517403 -0.16106384]\n",
      " [-0.31637521 -0.17538061]\n",
      " [-0.33772008 -0.2643675 ]\n",
      " [-0.34892126 -0.27868428]\n",
      " [-0.36062723 -0.30050236]\n",
      " [-0.3667326  -0.31516205]\n",
      " [-0.37843857 -0.33698013]\n",
      " [-0.38605832 -0.37414373]\n",
      " [-0.39524035 -0.3584553 ]\n",
      " [-0.40997505 -0.42528119]\n",
      " [-0.41759479 -0.46244479]\n",
      " [-0.41915707 -0.40959276]\n",
      " [-0.42930076 -0.48426287]\n",
      " [-0.4328822  -0.46141605]\n",
      " [-0.43999715 -0.49107835]\n",
      " [-0.44660732 -0.51323934]\n",
      " [-0.45170312 -0.51289643]]\n"
     ]
    }
   ],
   "source": [
    "# Proyectar los datos estandarizados en los eigenvectores\n",
    "data_projected = np.dot(scaled_data, eigenvectores)\n",
    "\n",
    "# Mostrar la matriz proyectada\n",
    "print(\"Matriz proyectada:\\n\", data_projected)"
   ]
  },
  {
   "cell_type": "markdown",
   "id": "ed4ef7ef-146e-4a44-a0b5-2f1ad4de9329",
   "metadata": {},
   "source": [
    "# Punto 2.6"
   ]
  },
  {
   "cell_type": "code",
   "execution_count": 96,
   "id": "63db9463-fdda-47f1-bb72-3b2bd8a767ca",
   "metadata": {},
   "outputs": [
    {
     "name": "stdout",
     "output_type": "stream",
     "text": [
      "7.701492921050745e-32\n"
     ]
    }
   ],
   "source": [
    "# Reconstruir los datos\n",
    "data_reconstructed = np.dot(data_projected, eigenvectores.T)\n",
    "\n",
    "# Calcular el error cuadrático medio entre los datos originales y reconstruidos\n",
    "mse = mean_squared_error(data_standardized, data_reconstructed)\n",
    "print(mse)"
   ]
  },
  {
   "cell_type": "markdown",
   "id": "e9a0a3a1-c6f5-47aa-ab41-65107f732bbe",
   "metadata": {},
   "source": [
    "# Punto 2.7"
   ]
  },
  {
   "cell_type": "code",
   "execution_count": 106,
   "id": "e7207a7f-67f8-4161-96a0-c4ac7fffc74a",
   "metadata": {},
   "outputs": [
    {
     "data": {
      "image/png": "[encoded data removed]",
      "text/plain": [
       "<Figure size 1000x200 with 1 Axes>"
      ]
     },
     "metadata": {},
     "output_type": "display_data"
    }
   ],
   "source": [
    "# Proyectar en el primer componente principal (usando el primer eigenvector)\n",
    "data_projected_1D = np.dot(scaled_data, eigenvectores[:, 0])\n",
    "\n",
    "# Crear el gráfico en 1D\n",
    "plt.figure(figsize=(10, 2))\n",
    "plt.scatter(data_projected_1D, np.zeros_like(data_projected_1D), marker='x', color='r')\n",
    "\n",
    "# Etiquetas de las ciudades\n",
    "for i, city in enumerate(df['City']):\n",
    "    plt.text(data_projected_1D[i], 0, city, fontsize=9, ha='right')\n",
    "\n",
    "# Configuración del gráfico\n",
    "plt.axhline(0, color='black', linewidth=0.5)\n",
    "plt.yticks([])  # Ocultar el eje Y\n",
    "plt.xlabel('Proyección en 1D')\n",
    "plt.title('Proyección de las ciudades en 1 dimensión (PCA)')\n",
    "\n",
    "plt.show()"
   ]
  }
 ],
 "metadata": {
  "kernelspec": {
   "display_name": "Python 3 (ipykernel)",
   "language": "python",
   "name": "python3"
  },
  "language_info": {
   "codemirror_mode": {
    "name": "ipython",
    "version": 3
   },
   "file_extension": ".py",
   "mimetype": "text/x-python",
   "name": "python",
   "nbconvert_exporter": "python",
   "pygments_lexer": "ipython3",
   "version": "3.12.4"
  }
 },
 "nbformat": 4,
 "nbformat_minor": 5
}
