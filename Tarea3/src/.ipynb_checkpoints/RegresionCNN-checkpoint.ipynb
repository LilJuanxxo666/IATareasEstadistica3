{
 "cells": [
  {
   "cell_type": "code",
   "execution_count": 275,
   "id": "cdb1aed9-3e1b-4079-a095-34cf9922c80c",
   "metadata": {},
   "outputs": [],
   "source": [
    "import pandas as pd\n",
    "import seaborn as sns\n",
    "from datetime import datetime\n",
    "import matplotlib.pyplot as plt\n",
    "import glob\n",
    "from sklearn import preprocessing"
   ]
  },
  {
   "cell_type": "code",
   "execution_count": 277,
   "id": "dd11cbc8-7e2e-414f-9ed0-69c18067d79b",
   "metadata": {},
   "outputs": [
    {
     "data": {
      "text/plain": [
       "Loose Silky-bent             654\n",
       "Common Chickweed             611\n",
       "Scentless Mayweed            516\n",
       "Small-flowered Cranesbill    496\n",
       "Fat Hen                      475\n",
       "Charlock                     390\n",
       "Sugar beet                   385\n",
       "Cleavers                     287\n",
       "Black-grass                  263\n",
       "Shepherds Purse              231\n",
       "Common wheat                 221\n",
       "Maize                        221\n",
       "cat                          164\n",
       "cow                          164\n",
       "dog                          164\n",
       "horse                        164\n",
       "Name: count, dtype: int64"
      ]
     },
     "execution_count": 277,
     "metadata": {},
     "output_type": "execute_result"
    }
   ],
   "source": [
    "desire_size = (50, 50)\n",
    "n_channels = 3\n",
    "batch_size = 128\n",
    "labels = list(map(lambda x: x.split(\"\\\\\")[1], glob.glob(\"../resources/train/*/*\"))\n",
    "IDS = list(map(lambda x: x.split(\"\\\\\")[1], glob.glob(\"../resources/train/*/*\")))\n",
    "le = preprocessing.LabelEncoder()\n",
    "le.fit(list(set(labels)))\n",
    "num_out = len(le.classes_)\n",
    "pd.Series(labels).value_counts()"
   ]
  },
  {
   "cell_type": "code",
   "execution_count": null,
   "id": "4def231d-207e-4c80-8a9c-ada578f13b81",
   "metadata": {},
   "outputs": [],
   "source": []
  }
 ],
 "metadata": {
  "kernelspec": {
   "display_name": "Python 3 (ipykernel)",
   "language": "python",
   "name": "python3"
  },
  "language_info": {
   "codemirror_mode": {
    "name": "ipython",
    "version": 3
   },
   "file_extension": ".py",
   "mimetype": "text/x-python",
   "name": "python",
   "nbconvert_exporter": "python",
   "pygments_lexer": "ipython3",
   "version": "3.12.4"
  }
 },
 "nbformat": 4,
 "nbformat_minor": 5
}
